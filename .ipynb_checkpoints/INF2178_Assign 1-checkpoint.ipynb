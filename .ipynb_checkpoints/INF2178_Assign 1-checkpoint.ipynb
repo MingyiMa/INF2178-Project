{
 "cells": [
  {
   "cell_type": "markdown",
   "metadata": {},
   "source": [
    "## INF2178 Assignment 1\n",
    "Dataset: 'employee_reviews.csv'"
   ]
  },
  {
   "cell_type": "markdown",
   "metadata": {},
   "source": [
    "## Content\n",
    "This dataset contains employee reviews separated into the following categories:  \n",
    "\n",
    "Index: index\n",
    "#### Company: Company name\n",
    "Location : This dataset is global, as such it may include the country's name in parenthesis [i.e \"Toronto, ON(Canada)\"]. However, if the location is in the USA then it will only include the city and state[i.e \"Los Angeles, CA\" ]\n",
    "Date Posted: in the following format MM DD, YYYY\n",
    "Job-Title: This string will also include whether the reviewer is a 'Current' or 'Former' Employee at the time of the review\n",
    "Summary: Short summary of employee review\n",
    "Pros: Pros\n",
    "Cons: Cons\n",
    "#### Overall Rating: 1-5\n",
    "#### Work/Life Balance Rating: 1-5\n",
    "#### Culture and Values Rating: 1-5\n",
    "#### Career Opportunities Rating: 1-5\n",
    "#### Comp & Benefits Rating: 1-5\n",
    "#### Senior Management Rating: 1-5\n",
    "Helpful Review Count: A count of how many people found the review to be helpful\n",
    "Link to Review : This will provide you with a direct link to the page that contains the review. However it is likely that this link will be outdated"
   ]
  },
  {
   "cell_type": "code",
   "execution_count": 1,
   "metadata": {},
   "outputs": [],
   "source": [
    "import datetime\n",
    "import pandas as pd\n",
    "import numpy as np\n",
    "import matplotlib.pyplot as plt\n",
    "import seaborn as sns\n",
    "%matplotlib inline"
   ]
  },
  {
   "cell_type": "code",
   "execution_count": 6,
   "metadata": {},
   "outputs": [],
   "source": [
    "df = pd.read_csv('employee_reviews.csv', index_col=0, na_values='none')"
   ]
  },
  {
   "cell_type": "code",
   "execution_count": 8,
   "metadata": {},
   "outputs": [
    {
     "name": "stdout",
     "output_type": "stream",
     "text": [
      "Index(['company', 'location', 'dates', 'job-title', 'summary', 'pros', 'cons',\n",
      "       'advice-to-mgmt', 'overall-ratings', 'work-balance-stars',\n",
      "       'culture-values-stars', 'carrer-opportunities-stars',\n",
      "       'comp-benefit-stars', 'senior-mangemnet-stars', 'helpful-count',\n",
      "       'link'],\n",
      "      dtype='object')\n"
     ]
    }
   ],
   "source": [
    "print(df.columns)"
   ]
  },
  {
   "cell_type": "code",
   "execution_count": 19,
   "metadata": {},
   "outputs": [],
   "source": [
    "# Select the particular columns\n",
    "df_new = df[['company', \n",
    "            'overall-ratings', \n",
    "            'work-balance-stars', \n",
    "            'culture-values-stars',\n",
    "            'carrer-opportunities-stars',\n",
    "            'comp-benefit-stars',\n",
    "            'senior-mangemnet-stars']]"
   ]
  },
  {
   "cell_type": "code",
   "execution_count": 30,
   "metadata": {},
   "outputs": [
    {
     "data": {
      "text/plain": [
       "(67529, 7)"
      ]
     },
     "execution_count": 30,
     "metadata": {},
     "output_type": "execute_result"
    }
   ],
   "source": [
    "# show the number of rows and columns\n",
    "df_new.shape"
   ]
  },
  {
   "cell_type": "code",
   "execution_count": 31,
   "metadata": {},
   "outputs": [],
   "source": [
    "df_new.rename(columns={'overall-ratings':'overall', \n",
    "                     'work-balance-stars':'workBalance', \n",
    "                     'culture-values-stars':'cultureValue', \n",
    "                     'carrer-opportunities-stars':'opportunities', \n",
    "                     'comp-benefit-stars':'benefits',\n",
    "                     'senior-mangemnet-stars':'management'}, inplace=True)"
   ]
  },
  {
   "cell_type": "code",
   "execution_count": 32,
   "metadata": {},
   "outputs": [
    {
     "data": {
      "text/html": [
       "<div>\n",
       "<style scoped>\n",
       "    .dataframe tbody tr th:only-of-type {\n",
       "        vertical-align: middle;\n",
       "    }\n",
       "\n",
       "    .dataframe tbody tr th {\n",
       "        vertical-align: top;\n",
       "    }\n",
       "\n",
       "    .dataframe thead th {\n",
       "        text-align: right;\n",
       "    }\n",
       "</style>\n",
       "<table border=\"1\" class=\"dataframe\">\n",
       "  <thead>\n",
       "    <tr style=\"text-align: right;\">\n",
       "      <th></th>\n",
       "      <th>company</th>\n",
       "      <th>overall</th>\n",
       "      <th>workBalance</th>\n",
       "      <th>cultureValue</th>\n",
       "      <th>opportunities</th>\n",
       "      <th>benefits</th>\n",
       "      <th>management</th>\n",
       "    </tr>\n",
       "  </thead>\n",
       "  <tbody>\n",
       "    <tr>\n",
       "      <th>1</th>\n",
       "      <td>google</td>\n",
       "      <td>5.0</td>\n",
       "      <td>4.0</td>\n",
       "      <td>5.0</td>\n",
       "      <td>5.0</td>\n",
       "      <td>4.0</td>\n",
       "      <td>5.0</td>\n",
       "    </tr>\n",
       "    <tr>\n",
       "      <th>2</th>\n",
       "      <td>google</td>\n",
       "      <td>4.0</td>\n",
       "      <td>2.0</td>\n",
       "      <td>3.0</td>\n",
       "      <td>3.0</td>\n",
       "      <td>5.0</td>\n",
       "      <td>3.0</td>\n",
       "    </tr>\n",
       "    <tr>\n",
       "      <th>3</th>\n",
       "      <td>google</td>\n",
       "      <td>5.0</td>\n",
       "      <td>5.0</td>\n",
       "      <td>4.0</td>\n",
       "      <td>5.0</td>\n",
       "      <td>5.0</td>\n",
       "      <td>4.0</td>\n",
       "    </tr>\n",
       "    <tr>\n",
       "      <th>4</th>\n",
       "      <td>google</td>\n",
       "      <td>5.0</td>\n",
       "      <td>2.0</td>\n",
       "      <td>5.0</td>\n",
       "      <td>5.0</td>\n",
       "      <td>4.0</td>\n",
       "      <td>5.0</td>\n",
       "    </tr>\n",
       "    <tr>\n",
       "      <th>5</th>\n",
       "      <td>google</td>\n",
       "      <td>5.0</td>\n",
       "      <td>5.0</td>\n",
       "      <td>5.0</td>\n",
       "      <td>5.0</td>\n",
       "      <td>5.0</td>\n",
       "      <td>5.0</td>\n",
       "    </tr>\n",
       "  </tbody>\n",
       "</table>\n",
       "</div>"
      ],
      "text/plain": [
       "  company  overall  workBalance  cultureValue  opportunities  benefits  \\\n",
       "1  google      5.0          4.0           5.0            5.0       4.0   \n",
       "2  google      4.0          2.0           3.0            3.0       5.0   \n",
       "3  google      5.0          5.0           4.0            5.0       5.0   \n",
       "4  google      5.0          2.0           5.0            5.0       4.0   \n",
       "5  google      5.0          5.0           5.0            5.0       5.0   \n",
       "\n",
       "   management  \n",
       "1         5.0  \n",
       "2         3.0  \n",
       "3         4.0  \n",
       "4         5.0  \n",
       "5         5.0  "
      ]
     },
     "execution_count": 32,
     "metadata": {},
     "output_type": "execute_result"
    }
   ],
   "source": [
    "df_new.head()"
   ]
  },
  {
   "cell_type": "code",
   "execution_count": 33,
   "metadata": {},
   "outputs": [
    {
     "data": {
      "text/plain": [
       "company              0\n",
       "overall              0\n",
       "workBalance       7160\n",
       "cultureValue     13546\n",
       "opportunities     7108\n",
       "benefits          7161\n",
       "management        7775\n",
       "dtype: int64"
      ]
     },
     "execution_count": 33,
     "metadata": {},
     "output_type": "execute_result"
    }
   ],
   "source": [
    "# the number of NaN values in every column.\n",
    "df_new.isnull().sum(axis = 0)"
   ]
  },
  {
   "cell_type": "code",
   "execution_count": 50,
   "metadata": {},
   "outputs": [
    {
     "data": {
      "text/plain": [
       "14307"
      ]
     },
     "execution_count": 50,
     "metadata": {},
     "output_type": "execute_result"
    }
   ],
   "source": [
    "# Count the number of rows which have NaN values\n",
    "sum(df_new.count(axis='columns') != 7)"
   ]
  },
  {
   "cell_type": "code",
   "execution_count": 54,
   "metadata": {},
   "outputs": [
    {
     "data": {
      "text/plain": [
       "(53222, 7)"
      ]
     },
     "execution_count": 54,
     "metadata": {},
     "output_type": "execute_result"
    }
   ],
   "source": [
    "df_new = df_new.dropna()\n",
    "df_new.shape # 53222 + 14307 = 67529"
   ]
  },
  {
   "cell_type": "code",
   "execution_count": 56,
   "metadata": {},
   "outputs": [
    {
     "data": {
      "text/plain": [
       "company          0\n",
       "overall          0\n",
       "workBalance      0\n",
       "cultureValue     0\n",
       "opportunities    0\n",
       "benefits         0\n",
       "management       0\n",
       "dtype: int64"
      ]
     },
     "execution_count": 56,
     "metadata": {},
     "output_type": "execute_result"
    }
   ],
   "source": [
    "df_new.isnull().sum(axis = 0)"
   ]
  },
  {
   "cell_type": "code",
   "execution_count": 57,
   "metadata": {},
   "outputs": [],
   "source": [
    "df_new.to_csv('df_new.csv', encoding='utf-8')"
   ]
  },
  {
   "cell_type": "code",
   "execution_count": null,
   "metadata": {},
   "outputs": [],
   "source": []
  }
 ],
 "metadata": {
  "kernelspec": {
   "display_name": "Python 3",
   "language": "python",
   "name": "python3"
  },
  "language_info": {
   "codemirror_mode": {
    "name": "ipython",
    "version": 3
   },
   "file_extension": ".py",
   "mimetype": "text/x-python",
   "name": "python",
   "nbconvert_exporter": "python",
   "pygments_lexer": "ipython3",
   "version": "3.6.8"
  }
 },
 "nbformat": 4,
 "nbformat_minor": 2
}
